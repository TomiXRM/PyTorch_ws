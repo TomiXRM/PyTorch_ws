{
 "cells": [
  {
   "cell_type": "markdown",
   "metadata": {},
   "source": [
    "## [PyTorchを１から理解しながらMNISTの手書き数字認識モデルを作っていく！](https://qiita.com/TaigaMasuda/items/a5dc0d37ebfc9ac6400b)"
   ]
  },
  {
   "cell_type": "code",
   "execution_count": 135,
   "metadata": {},
   "outputs": [],
   "source": [
    "import torch\n",
    "import torch.nn as nn\n",
    "import torch.nn.functional as F\n",
    "import torch.optim as optim\n",
    "import torchvision\n",
    "import torchvision.transforms as transforms\n",
    "\n",
    "import numpy as np\n",
    "import matplotlib.pyplot as plt\n",
    "\n",
    "# jupyter notebook で画像を表示するためのマジックコマンド\n",
    "%matplotlib inline \n"
   ]
  },
  {
   "cell_type": "code",
   "execution_count": 136,
   "metadata": {},
   "outputs": [],
   "source": [
    "# 訓練データ\n",
    "train_dataset = torchvision.datasets.MNIST(root='./data',\n",
    "                                           train=True,\n",
    "                                           transform=transforms.ToTensor(),\n",
    "                                           download=True)\n",
    "# 検証データ\n",
    "test_dataset = torchvision.datasets.MNIST(root='./data',\n",
    "                                          train=False,\n",
    "                                          transform=transforms.ToTensor(),\n",
    "                                          download=True)"
   ]
  },
  {
   "cell_type": "code",
   "execution_count": 137,
   "metadata": {},
   "outputs": [
    {
     "name": "stdout",
     "output_type": "stream",
     "text": [
      "train_dataset\n",
      " Dataset MNIST\n",
      "    Number of datapoints: 60000\n",
      "    Root location: ./data\n",
      "    Split: Train\n",
      "    StandardTransform\n",
      "Transform: ToTensor()\n",
      "\n",
      "test_dataset\n",
      " Dataset MNIST\n",
      "    Number of datapoints: 10000\n",
      "    Root location: ./data\n",
      "    Split: Test\n",
      "    StandardTransform\n",
      "Transform: ToTensor()\n"
     ]
    }
   ],
   "source": [
    "print(\"train_dataset\\n\", train_dataset)\n",
    "print(\"\\ntest_dataset\\n\", test_dataset)"
   ]
  },
  {
   "cell_type": "code",
   "execution_count": 138,
   "metadata": {},
   "outputs": [],
   "source": [
    "# ミニバッチ学習をする。今回はバッチサイズは256にする\n",
    "batch_size = 512\n",
    "train_loader = torch.utils.data.DataLoader(\n",
    "    dataset=train_dataset,\n",
    "    batch_size=batch_size,\n",
    "    shuffle=True)\n",
    "\n",
    "test_loader = torch.utils.data.DataLoader(\n",
    "    dataset=test_dataset,\n",
    "    batch_size=batch_size,\n",
    "    shuffle=True)"
   ]
  },
  {
   "cell_type": "code",
   "execution_count": 139,
   "metadata": {},
   "outputs": [],
   "source": [
    "# 予測関数をクラスで定義する．\n",
    "# PyTorchのニューラルネットワークの規定クラスであるnn.Moduleを継承するクラスを作る\n",
    "\n",
    "class Net(nn.Module):\n",
    "    def __init__(self, input_size, hidden1_size, hidden2_size, output_size):\n",
    "        super(Net, self).__init__()\n",
    "        self.fc1 = nn.Linear(input_size, hidden1_size)\n",
    "        self.fc2 = nn.Linear(hidden1_size, hidden2_size)\n",
    "        self.fc3 = nn.Linear(hidden2_size, output_size)\n",
    "\n",
    "    def forward(self, x):  # 順伝播 , xは入力データ\n",
    "        z1 = F.relu(self.fc1(x))\n",
    "        z2 = F.relu(self.fc2(z1))\n",
    "        y = self.fc3(z2)\n",
    "        # 後に出てくる[損失関数]に交差エントロピー誤差関数を使うので、出力層には活性化関数をかけない！！そのままyを返す\n",
    "        return y"
   ]
  },
  {
   "cell_type": "code",
   "execution_count": 140,
   "metadata": {},
   "outputs": [
    {
     "name": "stdout",
     "output_type": "stream",
     "text": [
      "Using device: mps\n",
      "Net(\n",
      "  (fc1): Linear(in_features=784, out_features=1024, bias=True)\n",
      "  (fc2): Linear(in_features=1024, out_features=512, bias=True)\n",
      "  (fc3): Linear(in_features=512, out_features=10, bias=True)\n",
      ")\n"
     ]
    }
   ],
   "source": [
    "# 予測関数のインスタンス化\n",
    "# データセット画像の大きさは28x28=784であるため、入力層のサイズは784\n",
    "# 手書き数字の画像を0~9の10個に分類するタスクをするので、出力層のサイズは10\n",
    "# 中間層は任意の値であるが、今回は中間層を2層にして、それぞれのサイズを1024と512にする\n",
    "\n",
    "input_size = 784\n",
    "hidden1_size = 1024\n",
    "hidden2_size = 512\n",
    "output_size = 10\n",
    "\n",
    "# デバイスの設定 (MPS, CUDA, CPU)\n",
    "if torch.backends.mps.is_available():  # Apple Silicon (MPS)\n",
    "    device = torch.device(\"mps\")\n",
    "elif torch.cuda.is_available():  # NVIDIA GPU (CUDA)\n",
    "    device = torch.device(\"cuda\")\n",
    "else:  # CPU\n",
    "    device = torch.device(\"cpu\")\n",
    "print(f\"Using device: {device}\")\n",
    "\n",
    "model = Net(input_size, hidden1_size, hidden2_size, output_size).to(device)\n",
    "print(model)"
   ]
  },
  {
   "cell_type": "code",
   "execution_count": 141,
   "metadata": {},
   "outputs": [],
   "source": [
    "# 損失関数と最適化手法の設定\n",
    "# 今回は，多値分類問題になるため，損失関数には，交差エントロピー誤差関数を、\n",
    "# 最適化法には，確率的勾配降下法を用いて学習を行うこととする\n",
    "# 交差エントロピー誤差関数を使うので、forwardに活性化関数が入ってないことに注意\n",
    "\n",
    "# criterion : 基準\n",
    "criterion = nn.CrossEntropyLoss()\n",
    "\n",
    "# optimizer : 最適化\n",
    "optimizer = optim.SGD(model.parameters(), lr=0.01)  # SGD : 確率的勾配降下法 , lr : 学習率"
   ]
  },
  {
   "cell_type": "code",
   "execution_count": 142,
   "metadata": {},
   "outputs": [],
   "source": [
    "# 1エポック分を関数化して定義する\n",
    "# ①予測計算↓\n",
    "# ②損失計算↓\n",
    "# ③勾配計算↓\n",
    "# ④パラメータ更新\n",
    "\n",
    "def train_model(model, train_loader, criterion, optimizer, device='cpu'):\n",
    "    train_loss = 0.0  # trainの損失用の変数を定義\n",
    "    num_train = 0  # 学習回数の記録用の変数を定義\n",
    "\n",
    "    model.train()  # モデルを学習モードに設定\n",
    "\n",
    "    # データの分割数分だけiterationを回す\n",
    "    # バッチサイズ分のデータで1回パラメータを修正する\n",
    "\n",
    "    for i, (images, labels) in enumerate(train_loader):\n",
    "        num_train += len(labels)\n",
    "        images, labels = images.view(-1, 28*28).to(device), labels.to(device)\n",
    "\n",
    "        optimizer.zero_grad()  # 勾配の初期化\n",
    "\n",
    "        # 1. 順伝播(推論)\n",
    "        outputs = model(images)  # 予測計算\n",
    "\n",
    "        # 2. 損失計算\n",
    "        loss = criterion(outputs, labels)\n",
    "\n",
    "        # 3. 勾配計算\n",
    "        loss.backward()  # 逆伝播, (勾配計算, 自動微分)\n",
    "\n",
    "        # 4. パラメータ更新\n",
    "        optimizer.step()\n",
    "\n",
    "        # lossの加算\n",
    "        train_loss += loss.item()\n",
    "\n",
    "    train_loss = train_loss / num_train  # データ数で割って平均を取る\n",
    "    return train_loss"
   ]
  },
  {
   "cell_type": "code",
   "execution_count": 143,
   "metadata": {},
   "outputs": [],
   "source": [
    "# 検証データに対する予測精度を計算する関数を定義する\n",
    "\n",
    "def test_model(model, test_loader, criterion, optimizer, device='cpu'):\n",
    "    test_loss = 0.0\n",
    "    num_test = 0\n",
    "\n",
    "    model.eval()  # モデルを評価モードに設定\n",
    "\n",
    "    with torch.no_grad():  # 自動微分を無効化(自動微分を使わなくていい。計算量を減らすために無効化)\n",
    "        for _i, (images, labels) in enumerate(test_loader):\n",
    "            num_test += len(labels)\n",
    "            images, labels = images.view(-1, 28*28).to(device), labels.to(device)\n",
    "\n",
    "            outputs = model(images)\n",
    "            loss = criterion(outputs, labels)\n",
    "\n",
    "            test_loss += loss.item()\n",
    "        test_loss = test_loss / num_test\n",
    "\n",
    "    return test_loss"
   ]
  },
  {
   "cell_type": "code",
   "execution_count": 144,
   "metadata": {},
   "outputs": [],
   "source": [
    "# モデル学習を行う関数の定義\n",
    "# 1エポックごとにテストデータでも評価を行い、学習データによる損失と、テストデータによる損失を出力する\n",
    "\n",
    "def leaning(model, train_loader, test_loader, criterion, optimizer, num_epochs, device='cpu'):\n",
    "    train_loss_list = []\n",
    "    test_loss_list = []\n",
    "\n",
    "    # epoch数分だけ学習をイテレートする\n",
    "    for epoch in range(1, num_epochs+1):\n",
    "        train_loss = train_model(model, train_loader, criterion, optimizer, device)\n",
    "        test_loss = test_model(model, test_loader, criterion, optimizer, device)\n",
    "\n",
    "        print(\"epoch : {}, train_loss : {:.5f}, test_loss : {:.5f}\" .format(epoch, train_loss, test_loss))\n",
    "\n",
    "        train_loss_list.append(train_loss)\n",
    "        test_loss_list.append(test_loss)\n",
    "\n",
    "    return train_loss_list, test_loss_list"
   ]
  },
  {
   "cell_type": "code",
   "execution_count": 145,
   "metadata": {},
   "outputs": [
    {
     "name": "stdout",
     "output_type": "stream",
     "text": [
      "epoch : 1, train_loss : 0.00446, test_loss : 0.00445\n",
      "epoch : 2, train_loss : 0.00426, test_loss : 0.00418\n",
      "epoch : 3, train_loss : 0.00389, test_loss : 0.00366\n",
      "epoch : 4, train_loss : 0.00324, test_loss : 0.00286\n",
      "epoch : 5, train_loss : 0.00247, test_loss : 0.00214\n",
      "epoch : 6, train_loss : 0.00190, test_loss : 0.00168\n",
      "epoch : 7, train_loss : 0.00154, test_loss : 0.00140\n",
      "epoch : 8, train_loss : 0.00131, test_loss : 0.00122\n",
      "epoch : 9, train_loss : 0.00116, test_loss : 0.00109\n",
      "epoch : 10, train_loss : 0.00106, test_loss : 0.00100\n",
      "epoch : 11, train_loss : 0.00098, test_loss : 0.00093\n",
      "epoch : 12, train_loss : 0.00092, test_loss : 0.00088\n",
      "epoch : 13, train_loss : 0.00088, test_loss : 0.00084\n",
      "epoch : 14, train_loss : 0.00084, test_loss : 0.00080\n",
      "epoch : 15, train_loss : 0.00081, test_loss : 0.00078\n",
      "epoch : 16, train_loss : 0.00078, test_loss : 0.00076\n",
      "epoch : 17, train_loss : 0.00076, test_loss : 0.00073\n",
      "epoch : 18, train_loss : 0.00074, test_loss : 0.00071\n",
      "epoch : 19, train_loss : 0.00072, test_loss : 0.00071\n",
      "epoch : 20, train_loss : 0.00071, test_loss : 0.00069\n"
     ]
    }
   ],
   "source": [
    "# 学習を行う\n",
    "\n",
    "num_epochs = 20\n",
    "train_loss_list, test_loss_list = leaning(model,\n",
    "                                          train_loader,\n",
    "                                          test_loader,\n",
    "                                          criterion,\n",
    "                                          optimizer,\n",
    "                                          num_epochs,\n",
    "                                          device)"
   ]
  },
  {
   "cell_type": "code",
   "execution_count": 146,
   "metadata": {},
   "outputs": [
    {
     "data": {
      "image/png": "[encoded data removed]",
      "text/plain": [
       "<Figure size 640x480 with 1 Axes>"
      ]
     },
     "metadata": {},
     "output_type": "display_data"
    }
   ],
   "source": [
    "# 学習推移の確認をグラフで行う\n",
    "\n",
    "plt.plot(range(len(train_loss_list)), train_loss_list, c='b', label='train loss')\n",
    "plt.plot(range(len(test_loss_list)), test_loss_list, c='r', label='test loss')\n",
    "plt.xlabel(\"epoch\")\n",
    "plt.ylabel(\"loss\")\n",
    "plt.legend()\n",
    "plt.grid()\n",
    "plt.show()"
   ]
  },
  {
   "cell_type": "code",
   "execution_count": 147,
   "metadata": {},
   "outputs": [
    {
     "name": "stdout",
     "output_type": "stream",
     "text": [
      "label : 7, prediction : 7\n",
      "label : 2, prediction : 2\n",
      "label : 1, prediction : 1\n",
      "label : 0, prediction : 0\n",
      "label : 4, prediction : 4\n",
      "label : 1, prediction : 1\n",
      "label : 4, prediction : 4\n",
      "label : 9, prediction : 9\n",
      "label : 5, prediction : 6\n",
      "label : 9, prediction : 9\n"
     ]
    },
    {
     "data": {
      "image/png": "[encoded data removed]",
      "text/plain": [
       "<Figure size 2000x1000 with 10 Axes>"
      ]
     },
     "metadata": {},
     "output_type": "display_data"
    }
   ],
   "source": [
    "# 上で学習したモデルをもとに、データを与えて実際に予測を行ってみる\n",
    "\n",
    "# テストデータの1バッチ分のデータを取得\n",
    "plt.figure(figsize=(20, 10))\n",
    "for i in range(10):\n",
    "    image, label = test_dataset[i]\n",
    "    image = image.view(-1, 28*28).to(device)\n",
    "\n",
    "    # 推論\n",
    "    prediction_label = torch.argmax(model(image))\n",
    "    print(\"label : {}, prediction : {}\".format(label, prediction_label))\n",
    "\n",
    "    ax = plt.subplot(1, 10, i+1)\n",
    "\n",
    "    plt.imshow(image.detach().to('cpu').numpy().reshape(28, 28), cmap='gray')\n",
    "    ax.axis('off')\n",
    "    ax.set_title('label : {}\\n Prediction : {}'.format(label, prediction_label), fontsize=15)\n",
    "plt.show()"
   ]
  },
  {
   "cell_type": "code",
   "execution_count": 148,
   "metadata": {},
   "outputs": [
    {
     "name": "stdout",
     "output_type": "stream",
     "text": [
      "Exported graph: graph(%onnx::Gemm_0 : Float(1, 784, strides=[784, 1], requires_grad=0, device=mps:0),\n",
      "      %fc1.weight : Float(1024, 784, strides=[784, 1], requires_grad=1, device=mps:0),\n",
      "      %fc1.bias : Float(1024, strides=[1], requires_grad=1, device=mps:0),\n",
      "      %fc2.weight : Float(512, 1024, strides=[1024, 1], requires_grad=1, device=mps:0),\n",
      "      %fc2.bias : Float(512, strides=[1], requires_grad=1, device=mps:0),\n",
      "      %fc3.weight : Float(10, 512, strides=[512, 1], requires_grad=1, device=mps:0),\n",
      "      %fc3.bias : Float(10, strides=[1], requires_grad=1, device=mps:0)):\n",
      "  %/fc1/Gemm_output_0 : Float(1, 1024, strides=[1024, 1], requires_grad=1, device=mps:0) = onnx::Gemm[alpha=1., beta=1., transB=1, onnx_name=\"/fc1/Gemm\"](%onnx::Gemm_0, %fc1.weight, %fc1.bias), scope: __main__.Net::/torch.nn.modules.linear.Linear::fc1 # /Users/tomixrm/Documents/Dev/PyTorch_ws/pytorch-notebook/mnist_1/.venv/lib/python3.11/site-packages/torch/nn/modules/linear.py:125:0\n",
      "  %/Relu_output_0 : Float(1, 1024, strides=[1024, 1], requires_grad=1, device=mps:0) = onnx::Relu[onnx_name=\"/Relu\"](%/fc1/Gemm_output_0), scope: __main__.Net:: # /Users/tomixrm/Documents/Dev/PyTorch_ws/pytorch-notebook/mnist_1/.venv/lib/python3.11/site-packages/torch/nn/functional.py:1704:0\n",
      "  %/fc2/Gemm_output_0 : Float(1, 512, strides=[512, 1], requires_grad=1, device=mps:0) = onnx::Gemm[alpha=1., beta=1., transB=1, onnx_name=\"/fc2/Gemm\"](%/Relu_output_0, %fc2.weight, %fc2.bias), scope: __main__.Net::/torch.nn.modules.linear.Linear::fc2 # /Users/tomixrm/Documents/Dev/PyTorch_ws/pytorch-notebook/mnist_1/.venv/lib/python3.11/site-packages/torch/nn/modules/linear.py:125:0\n",
      "  %/Relu_1_output_0 : Float(1, 512, strides=[512, 1], requires_grad=1, device=mps:0) = onnx::Relu[onnx_name=\"/Relu_1\"](%/fc2/Gemm_output_0), scope: __main__.Net:: # /Users/tomixrm/Documents/Dev/PyTorch_ws/pytorch-notebook/mnist_1/.venv/lib/python3.11/site-packages/torch/nn/functional.py:1704:0\n",
      "  %11 : Float(1, 10, strides=[10, 1], requires_grad=1, device=mps:0) = onnx::Gemm[alpha=1., beta=1., transB=1, onnx_name=\"/fc3/Gemm\"](%/Relu_1_output_0, %fc3.weight, %fc3.bias), scope: __main__.Net::/torch.nn.modules.linear.Linear::fc3 # /Users/tomixrm/Documents/Dev/PyTorch_ws/pytorch-notebook/mnist_1/.venv/lib/python3.11/site-packages/torch/nn/modules/linear.py:125:0\n",
      "  return (%11)\n",
      "\n"
     ]
    }
   ],
   "source": [
    "# モデルの保存 ONNX形式で\n",
    "torch.onnx.export(model,  # モデル\n",
    "                  torch.randn(1, 784).to(device),  # ダミーデータ\n",
    "                  \"mnist_model.onnx\",  # 保存先\n",
    "                  verbose=True  # ログの出力\n",
    "                  )\n",
    "       \n"
   ]
  }
 ],
 "metadata": {
  "kernelspec": {
   "display_name": ".venv",
   "language": "python",
   "name": "python3"
  },
  "language_info": {
   "codemirror_mode": {
    "name": "ipython",
    "version": 3
   },
   "file_extension": ".py",
   "mimetype": "text/x-python",
   "name": "python",
   "nbconvert_exporter": "python",
   "pygments_lexer": "ipython3",
   "version": "3.11.4"
  }
 },
 "nbformat": 4,
 "nbformat_minor": 2
}
