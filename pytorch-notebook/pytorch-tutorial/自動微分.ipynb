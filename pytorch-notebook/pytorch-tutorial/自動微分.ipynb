{
 "cells": [
  {
   "cell_type": "markdown",
   "metadata": {},
   "source": []
  },
  {
   "cell_type": "markdown",
   "metadata": {},
   "source": [
    "PyTorchくんが自動微分が強いらしいので、試してみる。\n",
    "# PyTorchで微分を計算する基本的な流れ\n",
    "\n",
    "1. Tensorの定義: 微分したい変数を含む計算をTensorとして定義します。この時、requires_grad=Trueと指定することで、PyTorchにそのTensorに関する勾配を計算することを伝えます。\n",
    "\n",
    "2. 計算グラフの構築: 定義したTensorを使って様々な計算を行い、最終的に出力となるTensorを生成します。この過程で、PyTorchは計算グラフを自動的に構築します。\n",
    "\n",
    "3. 逆伝播: 出力Tensorに対してbackward()メソッドを呼び出すことで、計算グラフを逆方向に辿りながら勾配を計算します。\n",
    "\n",
    "4. 勾配の確認: 各Tensorの.grad属性に計算された勾配が格納されます。\n",
    "\n",
    "例として\n",
    "y = x^2 + 2x + 1をPyTorchで微分してみる。"
   ]
  },
  {
   "cell_type": "code",
   "execution_count": 5,
   "metadata": {},
   "outputs": [
    {
     "name": "stdout",
     "output_type": "stream",
     "text": [
      "tensor(6.)\n"
     ]
    }
   ],
   "source": [
    "import torch\n",
    "\n",
    "# 1. Tensorの定義\n",
    "x = torch.tensor(2.0, requires_grad=True)  # x = 2.0, 勾配計算を有効化\n",
    "\n",
    "# 2. 計算グラフの構築\n",
    "y = x**2 + 2*x + 1\n",
    "\n",
    "# 3. 逆伝播\n",
    "y.backward() #ここで微分するらしい。\n",
    "\n",
    "# 4. 勾配の確認\n",
    "print(x.grad)  # 出力: tensor(6.)  (dy/dx = 2x + 2 = 6)"
   ]
  },
  {
   "cell_type": "markdown",
   "metadata": {},
   "source": [
    "多変数関数で自動微分可能らしい\n",
    "この例↓では2つの変数x[0]とx[1]を持つ2変数関数を偏微分する。\n",
    "$$\n",
    "\\begin{align}\n",
    "y =x_1^2 + 2x_2\n",
    "\\end{align}\n",
    "$$"
   ]
  },
  {
   "cell_type": "code",
   "execution_count": 6,
   "metadata": {},
   "outputs": [
    {
     "name": "stdout",
     "output_type": "stream",
     "text": [
      "tensor([2., 2.])\n"
     ]
    }
   ],
   "source": [
    "import torch\n",
    "\n",
    "x = torch.tensor([1.0, 2.0], requires_grad=True)\n",
    "y = x[0]**2 + x[1]*2\n",
    "\n",
    "y.backward()\n",
    "\n",
    "print(x.grad)  # 出力: tensor([2., 2.])  (dy/dx1 = 2x1 = 2, dy/dx2 = 2)"
   ]
  }
 ],
 "metadata": {
  "kernelspec": {
   "display_name": ".venv",
   "language": "python",
   "name": "python3"
  },
  "language_info": {
   "codemirror_mode": {
    "name": "ipython",
    "version": 3
   },
   "file_extension": ".py",
   "mimetype": "text/x-python",
   "name": "python",
   "nbconvert_exporter": "python",
   "pygments_lexer": "ipython3",
   "version": "3.11.4"
  }
 },
 "nbformat": 4,
 "nbformat_minor": 2
}
